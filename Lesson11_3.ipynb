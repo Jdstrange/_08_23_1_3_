{
 "cells": [
  {
   "cell_type": "code",
   "execution_count": 12,
   "metadata": {},
   "outputs": [],
   "source": [
    "class Student:\n",
    "    def __init__(self,name:str,ch:int,eng:int,math:int,geo:int,his:int):\n",
    "        self.姓名 = name\n",
    "        self.國文 = ch\n",
    "        self.英文 = eng\n",
    "        self.數學 = math\n",
    "        self.地理 = geo\n",
    "        self.歷史 = his\n",
    "\n",
    "    def __repr__(self) -> str:\n",
    "        return f'{self.姓名}的實體'"
   ]
  },
  {
   "cell_type": "code",
   "execution_count": 13,
   "metadata": {},
   "outputs": [
    {
     "data": {
      "text/plain": [
       "[楊易政的實體,\n",
       " 黃政甫的實體,\n",
       " 黃旻林的實體,\n",
       " 王泓泰的實體,\n",
       " 白美珍的實體,\n",
       " 王品星的實體,\n",
       " 王筱婷的實體,\n",
       " 林志成的實體,\n",
       " 黃雅慧的實體,\n",
       " 謝水儒的實體,\n",
       " 趙偉銘的實體,\n",
       " 葉軍仰的實體,\n",
       " 趙宛真的實體,\n",
       " 謝佳穎的實體,\n",
       " 元延辛的實體,\n",
       " 楊韻如的實體,\n",
       " 童建霖的實體,\n",
       " 趙宛真的實體,\n",
       " 楊健麟的實體,\n",
       " 張慧君的實體,\n",
       " 陳美惠的實體,\n",
       " 林康亮的實體,\n",
       " 林思賢的實體,\n",
       " 翁鈺婷的實體,\n",
       " 葉軍仰的實體,\n",
       " 游倫城的實體,\n",
       " 吳志宣的實體,\n",
       " 程玫靖的實體,\n",
       " 黃佩玲的實體,\n",
       " 林俊翔的實體,\n",
       " 陳嘉淑的實體,\n",
       " 張天亨的實體,\n",
       " 吳昕婷的實體,\n",
       " 鄧淑娟的實體,\n",
       " 游淑惠的實體,\n",
       " 劉萬季的實體,\n",
       " 高智超的實體,\n",
       " 陳筱涵的實體,\n",
       " 王明昇的實體,\n",
       " 陳逸華的實體,\n",
       " 王德城的實體,\n",
       " 楊少亮的實體,\n",
       " 藍哲嘉的實體,\n",
       " 郭致恬的實體,\n",
       " 錢佩豪的實體,\n",
       " 陳信宏的實體,\n",
       " 游治旺的實體,\n",
       " 簡國瑋的實體,\n",
       " 陳怡伶的實體,\n",
       " 李政成的實體]"
      ]
     },
     "execution_count": 13,
     "metadata": {},
     "output_type": "execute_result"
    }
   ],
   "source": [
    "import csv\n",
    "with open(\"學生成績.csv.csv\",encoding=\"utf-8\",newline='') as file:\n",
    "    dict_reader = csv.DictReader(file)\n",
    "    students = []\n",
    "    for student in dict_reader:\n",
    "        chinese = int(student['國文'])\n",
    "        english = int(student['英文'])\n",
    "        math = int(student['數學'])\n",
    "        geographic = int(student['地理'])\n",
    "        history = int(student['歷史'])\n",
    "        student = Student(student['姓名'],\n",
    "                ch=chinese,\n",
    "                eng=english,\n",
    "                math=math,\n",
    "                geo=geographic,\n",
    "                his=history)\n",
    "        students.append(student)\n",
    "        \n",
    "students"
   ]
  }
 ],
 "metadata": {
  "kernelspec": {
   "display_name": "Python 3",
   "language": "python",
   "name": "python3"
  },
  "language_info": {
   "codemirror_mode": {
    "name": "ipython",
    "version": 3
   },
   "file_extension": ".py",
   "mimetype": "text/x-python",
   "name": "python",
   "nbconvert_exporter": "python",
   "pygments_lexer": "ipython3",
   "version": "3.10.8"
  },
  "orig_nbformat": 4
 },
 "nbformat": 4,
 "nbformat_minor": 2
}
