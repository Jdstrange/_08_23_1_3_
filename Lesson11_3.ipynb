{
 "cells": [
  {
   "cell_type": "code",
   "execution_count": 7,
   "metadata": {},
   "outputs": [],
   "source": [
    "class Student:\n",
    "    def __init__(self,name:str,ch:int,eng:int,math:int,geo:int,his:int):\n",
    "        self.姓名 = name\n",
    "        self.國文 = ch\n",
    "        self.英文 = eng\n",
    "        self.數學 = math\n",
    "        self.地理 = geo\n",
    "        self.歷史 = his"
   ]
  },
  {
   "cell_type": "code",
   "execution_count": 9,
   "metadata": {},
   "outputs": [
    {
     "data": {
      "text/plain": [
       "[<__main__.Student at 0x7fdb10f79690>,\n",
       " <__main__.Student at 0x7fdb180aa470>,\n",
       " <__main__.Student at 0x7fdb180abc40>,\n",
       " <__main__.Student at 0x7fdb180f9780>,\n",
       " <__main__.Student at 0x7fdb180f9c60>,\n",
       " <__main__.Student at 0x7fdb180fad70>,\n",
       " <__main__.Student at 0x7fdb180d4250>,\n",
       " <__main__.Student at 0x7fdb181f19c0>,\n",
       " <__main__.Student at 0x7fdb181f1c90>,\n",
       " <__main__.Student at 0x7fdb181f15a0>,\n",
       " <__main__.Student at 0x7fdb181f1f00>,\n",
       " <__main__.Student at 0x7fdb181f13c0>,\n",
       " <__main__.Student at 0x7fdb181f1570>,\n",
       " <__main__.Student at 0x7fdb181f1c00>,\n",
       " <__main__.Student at 0x7fdb181f1840>,\n",
       " <__main__.Student at 0x7fdb181f2d70>,\n",
       " <__main__.Student at 0x7fdb181f06d0>,\n",
       " <__main__.Student at 0x7fdb181f06a0>,\n",
       " <__main__.Student at 0x7fdb181f2d40>,\n",
       " <__main__.Student at 0x7fdb181f1870>,\n",
       " <__main__.Student at 0x7fdb181f16f0>,\n",
       " <__main__.Student at 0x7fdb181f0640>,\n",
       " <__main__.Student at 0x7fdb181f04c0>,\n",
       " <__main__.Student at 0x7fdb181f0850>,\n",
       " <__main__.Student at 0x7fdb181f02e0>,\n",
       " <__main__.Student at 0x7fdb181f0580>,\n",
       " <__main__.Student at 0x7fdb181f09a0>,\n",
       " <__main__.Student at 0x7fdb181f0550>,\n",
       " <__main__.Student at 0x7fdb181f0670>,\n",
       " <__main__.Student at 0x7fdb181f1960>,\n",
       " <__main__.Student at 0x7fdb181f18a0>,\n",
       " <__main__.Student at 0x7fdb181f1ae0>,\n",
       " <__main__.Student at 0x7fdb181f1d20>,\n",
       " <__main__.Student at 0x7fdb181f0f10>,\n",
       " <__main__.Student at 0x7fdb181f0e80>,\n",
       " <__main__.Student at 0x7fdb181f2170>,\n",
       " <__main__.Student at 0x7fdb181f2020>,\n",
       " <__main__.Student at 0x7fdb181f1f90>,\n",
       " <__main__.Student at 0x7fdb181f2230>,\n",
       " <__main__.Student at 0x7fdb181f21d0>,\n",
       " <__main__.Student at 0x7fdb181f0400>,\n",
       " <__main__.Student at 0x7fdb181f0c70>,\n",
       " <__main__.Student at 0x7fdb181f0880>,\n",
       " <__main__.Student at 0x7fdb181f01f0>,\n",
       " <__main__.Student at 0x7fdb181f2350>,\n",
       " <__main__.Student at 0x7fdb181f0790>,\n",
       " <__main__.Student at 0x7fdb181f0520>,\n",
       " <__main__.Student at 0x7fdb181f2110>,\n",
       " <__main__.Student at 0x7fdb181f0370>,\n",
       " <__main__.Student at 0x7fdb181f24d0>]"
      ]
     },
     "execution_count": 9,
     "metadata": {},
     "output_type": "execute_result"
    }
   ],
   "source": [
    "import csv\n",
    "with open(\"學生成績.csv.csv\",encoding=\"utf-8\",newline='') as file:\n",
    "    dict_reader = csv.DictReader(file)\n",
    "    students = []\n",
    "    for student in dict_reader:\n",
    "        chinese = int(student['國文'])\n",
    "        english = int(student['英文'])\n",
    "        math = int(student['數學'])\n",
    "        geographic = int(student['地理'])\n",
    "        history = int(student['歷史'])\n",
    "        student = Student(student['姓名'],\n",
    "                ch=chinese,\n",
    "                eng=english,\n",
    "                math=math,\n",
    "                geo=geographic,\n",
    "                his=history)\n",
    "        students.append(student)\n",
    "        \n",
    "students"
   ]
  }
 ],
 "metadata": {
  "kernelspec": {
   "display_name": "Python 3",
   "language": "python",
   "name": "python3"
  },
  "language_info": {
   "codemirror_mode": {
    "name": "ipython",
    "version": 3
   },
   "file_extension": ".py",
   "mimetype": "text/x-python",
   "name": "python",
   "nbconvert_exporter": "python",
   "pygments_lexer": "ipython3",
   "version": "3.10.8"
  },
  "orig_nbformat": 4
 },
 "nbformat": 4,
 "nbformat_minor": 2
}
