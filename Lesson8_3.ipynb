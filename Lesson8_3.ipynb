{
 "cells": [
  {
   "cell_type": "code",
   "execution_count": 1,
   "metadata": {},
   "outputs": [
    {
     "data": {
      "text/plain": [
       "[78, 92, 85, 64, 92]"
      ]
     },
     "execution_count": 1,
     "metadata": {},
     "output_type": "execute_result"
    }
   ],
   "source": [
    "stu1 = [78, 92, 85, 64, 92]\n",
    "stu1"
   ]
  },
  {
   "cell_type": "code",
   "execution_count": 2,
   "metadata": {},
   "outputs": [
    {
     "data": {
      "text/plain": [
       "[56, 54, 89, 96, 62]"
      ]
     },
     "execution_count": 2,
     "metadata": {},
     "output_type": "execute_result"
    }
   ],
   "source": [
    "import random\n",
    "\n",
    "stu2 = []\n",
    "for _ in range(5):\n",
    "    stu2.append(random.randint(50,100))\n",
    "stu2"
   ]
  },
  {
   "cell_type": "code",
   "execution_count": 4,
   "metadata": {},
   "outputs": [
    {
     "data": {
      "text/plain": [
       "[71, 64, 60, 63, 95]"
      ]
     },
     "execution_count": 4,
     "metadata": {},
     "output_type": "execute_result"
    }
   ],
   "source": [
    "import random\n",
    "\n",
    "def generate_stu():\n",
    "    scores = []\n",
    "    for _ in range(5):\n",
    "        scores.append(random.randint(50,100))\n",
    "    return scores\n",
    "\n",
    "generate_stu()"
   ]
  },
  {
   "cell_type": "code",
   "execution_count": 5,
   "metadata": {},
   "outputs": [
    {
     "data": {
      "text/plain": [
       "[[65, 70, 80, 50, 80],\n",
       " [80, 82, 71, 100, 69],\n",
       " [93, 54, 89, 89, 80],\n",
       " [83, 67, 60, 51, 51],\n",
       " [51, 51, 69, 94, 81],\n",
       " [83, 82, 76, 64, 87],\n",
       " [95, 81, 51, 97, 63],\n",
       " [56, 89, 95, 53, 67],\n",
       " [89, 64, 62, 71, 72],\n",
       " [95, 51, 74, 50, 75],\n",
       " [81, 57, 74, 72, 66],\n",
       " [65, 54, 79, 55, 92],\n",
       " [86, 65, 82, 80, 67],\n",
       " [68, 77, 60, 53, 67],\n",
       " [82, 100, 52, 60, 95],\n",
       " [51, 90, 77, 61, 77],\n",
       " [64, 73, 98, 94, 53],\n",
       " [96, 68, 62, 56, 59],\n",
       " [86, 63, 86, 97, 59],\n",
       " [56, 76, 51, 75, 67],\n",
       " [73, 91, 70, 71, 56],\n",
       " [51, 73, 86, 94, 91],\n",
       " [67, 73, 73, 81, 66],\n",
       " [90, 81, 50, 75, 84],\n",
       " [94, 84, 61, 95, 59],\n",
       " [54, 73, 94, 57, 72],\n",
       " [93, 71, 55, 87, 53],\n",
       " [71, 56, 59, 68, 68],\n",
       " [72, 98, 85, 83, 87],\n",
       " [80, 82, 62, 87, 81],\n",
       " [78, 73, 100, 68, 59],\n",
       " [81, 53, 85, 55, 87],\n",
       " [61, 62, 61, 92, 78],\n",
       " [80, 50, 74, 55, 69],\n",
       " [72, 94, 74, 99, 59],\n",
       " [66, 67, 89, 77, 59],\n",
       " [98, 79, 77, 55, 51],\n",
       " [60, 71, 77, 57, 57],\n",
       " [70, 69, 95, 97, 79],\n",
       " [91, 71, 65, 58, 73],\n",
       " [100, 82, 99, 94, 65],\n",
       " [62, 99, 71, 58, 88],\n",
       " [85, 71, 78, 52, 68],\n",
       " [89, 79, 94, 71, 80],\n",
       " [69, 95, 91, 59, 68],\n",
       " [57, 60, 91, 70, 100],\n",
       " [81, 56, 98, 95, 56],\n",
       " [70, 70, 61, 65, 64],\n",
       " [74, 67, 83, 95, 52],\n",
       " [54, 63, 71, 83, 85]]"
      ]
     },
     "execution_count": 5,
     "metadata": {},
     "output_type": "execute_result"
    }
   ],
   "source": [
    "#建立50個學生\n",
    "students = []\n",
    "for _ in range(50):\n",
    "    scores =  generate_stu()\n",
    "    students.append(scores)\n",
    "    \n",
    "students"
   ]
  }
 ],
 "metadata": {
  "kernelspec": {
   "display_name": "Python 3",
   "language": "python",
   "name": "python3"
  },
  "language_info": {
   "codemirror_mode": {
    "name": "ipython",
    "version": 3
   },
   "file_extension": ".py",
   "mimetype": "text/x-python",
   "name": "python",
   "nbconvert_exporter": "python",
   "pygments_lexer": "ipython3",
   "version": "3.10.8"
  },
  "orig_nbformat": 4
 },
 "nbformat": 4,
 "nbformat_minor": 2
}
