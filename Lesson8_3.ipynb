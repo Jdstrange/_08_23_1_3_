{
 "cells": [
  {
   "cell_type": "code",
   "execution_count": 1,
   "metadata": {},
   "outputs": [
    {
     "data": {
      "text/plain": [
       "[78, 92, 85, 64, 92]"
      ]
     },
     "execution_count": 1,
     "metadata": {},
     "output_type": "execute_result"
    }
   ],
   "source": [
    "stu1 = [78, 92, 85, 64, 92]\n",
    "stu1"
   ]
  },
  {
   "cell_type": "code",
   "execution_count": 2,
   "metadata": {},
   "outputs": [
    {
     "data": {
      "text/plain": [
       "[56, 54, 89, 96, 62]"
      ]
     },
     "execution_count": 2,
     "metadata": {},
     "output_type": "execute_result"
    }
   ],
   "source": [
    "import random\n",
    "\n",
    "stu2 = []\n",
    "for _ in range(5):\n",
    "    stu2.append(random.randint(50,100))\n",
    "stu2"
   ]
  },
  {
   "cell_type": "code",
   "execution_count": 4,
   "metadata": {},
   "outputs": [
    {
     "data": {
      "text/plain": [
       "[71, 64, 60, 63, 95]"
      ]
     },
     "execution_count": 4,
     "metadata": {},
     "output_type": "execute_result"
    }
   ],
   "source": [
    "import random\n",
    "\n",
    "def generate_stu():\n",
    "    scores = []\n",
    "    for _ in range(5):\n",
    "        scores.append(random.randint(50,100))\n",
    "    return scores\n",
    "\n",
    "generate_stu()"
   ]
  },
  {
   "cell_type": "code",
   "execution_count": 8,
   "metadata": {},
   "outputs": [
    {
     "name": "stdout",
     "output_type": "stream",
     "text": [
      "格式錯誤\n",
      "格式錯誤\n",
      "格式錯誤\n",
      "[[78, 79, 84, 81, 64], [81, 52, 98, 79, 59], [76, 68, 55, 92, 70], [66, 69, 81, 62, 71], [87, 83, 50, 98, 75], [55, 52, 73, 78, 55], [58, 98, 89, 69, 70], [92, 60, 94, 58, 92], [89, 80, 74, 53, 85], [55, 81, 76, 55, 60], [57, 62, 72, 87, 86], [72, 93, 87, 63, 61], [86, 58, 52, 89, 57], [99, 54, 63, 57, 51], [58, 64, 54, 79, 81], [74, 90, 83, 98, 92], [73, 60, 88, 64, 69], [88, 82, 67, 64, 68], [57, 69, 85, 82, 91], [61, 83, 78, 81, 70], [72, 90, 54, 72, 98], [90, 89, 52, 58, 68], [66, 97, 62, 77, 83], [59, 100, 97, 62, 88], [62, 50, 53, 93, 64], [57, 56, 93, 83, 50], [83, 85, 91, 86, 59], [68, 81, 96, 75, 91], [95, 100, 70, 67, 61], [69, 56, 60, 78, 89], [73, 53, 68, 76, 79], [67, 75, 68, 75, 83], [96, 50, 96, 72, 80], [65, 55, 77, 68, 63], [82, 80, 66, 71, 62], [72, 98, 87, 99, 63], [71, 71, 83, 68, 58], [88, 57, 54, 96, 76], [89, 59, 95, 58, 57], [68, 72, 65, 88, 52], [95, 92, 94, 81, 69], [91, 76, 85, 73, 88], [77, 86, 64, 72, 76], [98, 87, 66, 64, 99], [87, 58, 65, 70, 73], [59, 85, 59, 91, 73], [57, 55, 64, 86, 72], [73, 82, 62, 86, 87], [68, 61, 79, 55, 50], [66, 56, 76, 84, 58]]\n"
     ]
    }
   ],
   "source": [
    "#建立50個學生\n",
    "while True:\n",
    "    try:\n",
    "        num = int(input('請輸入學生的人數:'))\n",
    "    except:\n",
    "        print(\"格式錯誤\")\n",
    "    else:\n",
    "        if not (num >= 5 and num <= 50):\n",
    "            continue\n",
    "        \n",
    "        students = []\n",
    "        for _ in range(num):\n",
    "            scores =  generate_stu()\n",
    "            students.append(scores)\n",
    "\n",
    "        print(students)\n",
    "        break"
   ]
  },
  {
   "cell_type": "code",
   "execution_count": 10,
   "metadata": {},
   "outputs": [],
   "source": [
    "import pyinputplus as pyip\n"
   ]
  },
  {
   "cell_type": "code",
   "execution_count": 11,
   "metadata": {},
   "outputs": [
    {
     "name": "stdout",
     "output_type": "stream",
     "text": [
      "請輸入學生的人數:"
     ]
    },
    {
     "data": {
      "text/plain": [
       "[[87, 74, 72, 52, 93],\n",
       " [99, 60, 55, 84, 73],\n",
       " [55, 82, 72, 91, 97],\n",
       " [83, 63, 74, 71, 86],\n",
       " [95, 97, 51, 78, 92],\n",
       " [84, 82, 91, 75, 64],\n",
       " [72, 57, 72, 83, 55],\n",
       " [66, 76, 98, 98, 50],\n",
       " [82, 66, 85, 87, 58],\n",
       " [94, 88, 88, 59, 68],\n",
       " [67, 77, 85, 52, 91],\n",
       " [83, 61, 53, 64, 78],\n",
       " [92, 66, 53, 79, 60],\n",
       " [76, 92, 86, 80, 88],\n",
       " [85, 61, 71, 80, 86],\n",
       " [62, 72, 77, 89, 58],\n",
       " [77, 96, 50, 59, 53],\n",
       " [76, 83, 89, 94, 54],\n",
       " [98, 100, 95, 74, 52],\n",
       " [50, 55, 65, 84, 93],\n",
       " [72, 87, 53, 55, 59],\n",
       " [98, 73, 52, 73, 91],\n",
       " [79, 57, 92, 70, 87],\n",
       " [79, 77, 60, 74, 59],\n",
       " [92, 55, 75, 91, 67],\n",
       " [58, 74, 53, 59, 70],\n",
       " [99, 92, 65, 67, 92],\n",
       " [67, 67, 88, 62, 62],\n",
       " [58, 83, 65, 83, 60],\n",
       " [80, 64, 85, 83, 89],\n",
       " [67, 92, 50, 55, 94],\n",
       " [59, 90, 63, 88, 59],\n",
       " [65, 73, 99, 55, 79],\n",
       " [50, 75, 68, 72, 76],\n",
       " [50, 67, 99, 76, 67],\n",
       " [79, 97, 79, 53, 53],\n",
       " [97, 94, 55, 64, 66],\n",
       " [79, 65, 80, 64, 89],\n",
       " [74, 55, 66, 93, 80],\n",
       " [78, 81, 51, 99, 91],\n",
       " [86, 50, 56, 95, 77],\n",
       " [72, 94, 66, 54, 78],\n",
       " [64, 94, 84, 61, 71],\n",
       " [96, 51, 88, 68, 66],\n",
       " [92, 93, 65, 53, 100],\n",
       " [76, 89, 66, 88, 100],\n",
       " [79, 59, 90, 97, 77],\n",
       " [86, 52, 66, 70, 63],\n",
       " [84, 80, 54, 77, 63],\n",
       " [88, 57, 93, 97, 68]]"
      ]
     },
     "execution_count": 11,
     "metadata": {},
     "output_type": "execute_result"
    }
   ],
   "source": [
    "import pyinputplus as pyip\n",
    "\n",
    "num = pyip.inputInt('請輸入學生的人數:')\n",
    "students = []\n",
    "for _ in range(num):\n",
    "    scores =  generate_stu()\n",
    "    students.append(scores)\n",
    "\n",
    "students"
   ]
  }
 ],
 "metadata": {
  "kernelspec": {
   "display_name": "Python 3",
   "language": "python",
   "name": "python3"
  },
  "language_info": {
   "codemirror_mode": {
    "name": "ipython",
    "version": 3
   },
   "file_extension": ".py",
   "mimetype": "text/x-python",
   "name": "python",
   "nbconvert_exporter": "python",
   "pygments_lexer": "ipython3",
   "version": "3.10.8"
  },
  "orig_nbformat": 4
 },
 "nbformat": 4,
 "nbformat_minor": 2
}
