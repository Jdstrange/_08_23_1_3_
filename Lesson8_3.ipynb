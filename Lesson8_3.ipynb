{
 "cells": [
  {
   "cell_type": "code",
   "execution_count": 1,
   "metadata": {},
   "outputs": [
    {
     "data": {
      "text/plain": [
       "[78, 92, 85, 64, 92]"
      ]
     },
     "execution_count": 1,
     "metadata": {},
     "output_type": "execute_result"
    }
   ],
   "source": [
    "stu1 = [78, 92, 85, 64, 92]\n",
    "stu1"
   ]
  },
  {
   "cell_type": "code",
   "execution_count": 2,
   "metadata": {},
   "outputs": [
    {
     "data": {
      "text/plain": [
       "[56, 54, 89, 96, 62]"
      ]
     },
     "execution_count": 2,
     "metadata": {},
     "output_type": "execute_result"
    }
   ],
   "source": [
    "import random\n",
    "\n",
    "stu2 = []\n",
    "for _ in range(5):\n",
    "    stu2.append(random.randint(50,100))\n",
    "stu2"
   ]
  },
  {
   "cell_type": "code",
   "execution_count": 4,
   "metadata": {},
   "outputs": [
    {
     "data": {
      "text/plain": [
       "[71, 64, 60, 63, 95]"
      ]
     },
     "execution_count": 4,
     "metadata": {},
     "output_type": "execute_result"
    }
   ],
   "source": [
    "import random\n",
    "\n",
    "def generate_stu():\n",
    "    scores = []\n",
    "    for _ in range(5):\n",
    "        scores.append(random.randint(50,100))\n",
    "    return scores\n",
    "\n",
    "generate_stu()"
   ]
  },
  {
   "cell_type": "code",
   "execution_count": 8,
   "metadata": {},
   "outputs": [
    {
     "name": "stdout",
     "output_type": "stream",
     "text": [
      "格式錯誤\n",
      "格式錯誤\n",
      "格式錯誤\n",
      "[[78, 79, 84, 81, 64], [81, 52, 98, 79, 59], [76, 68, 55, 92, 70], [66, 69, 81, 62, 71], [87, 83, 50, 98, 75], [55, 52, 73, 78, 55], [58, 98, 89, 69, 70], [92, 60, 94, 58, 92], [89, 80, 74, 53, 85], [55, 81, 76, 55, 60], [57, 62, 72, 87, 86], [72, 93, 87, 63, 61], [86, 58, 52, 89, 57], [99, 54, 63, 57, 51], [58, 64, 54, 79, 81], [74, 90, 83, 98, 92], [73, 60, 88, 64, 69], [88, 82, 67, 64, 68], [57, 69, 85, 82, 91], [61, 83, 78, 81, 70], [72, 90, 54, 72, 98], [90, 89, 52, 58, 68], [66, 97, 62, 77, 83], [59, 100, 97, 62, 88], [62, 50, 53, 93, 64], [57, 56, 93, 83, 50], [83, 85, 91, 86, 59], [68, 81, 96, 75, 91], [95, 100, 70, 67, 61], [69, 56, 60, 78, 89], [73, 53, 68, 76, 79], [67, 75, 68, 75, 83], [96, 50, 96, 72, 80], [65, 55, 77, 68, 63], [82, 80, 66, 71, 62], [72, 98, 87, 99, 63], [71, 71, 83, 68, 58], [88, 57, 54, 96, 76], [89, 59, 95, 58, 57], [68, 72, 65, 88, 52], [95, 92, 94, 81, 69], [91, 76, 85, 73, 88], [77, 86, 64, 72, 76], [98, 87, 66, 64, 99], [87, 58, 65, 70, 73], [59, 85, 59, 91, 73], [57, 55, 64, 86, 72], [73, 82, 62, 86, 87], [68, 61, 79, 55, 50], [66, 56, 76, 84, 58]]\n"
     ]
    }
   ],
   "source": [
    "#建立50個學生\n",
    "while True:\n",
    "    try:\n",
    "        num = int(input('請輸入學生的人數:'))\n",
    "    except:\n",
    "        print(\"格式錯誤\")\n",
    "    else:\n",
    "        if not (num >= 5 and num <= 50):\n",
    "            continue\n",
    "        \n",
    "        students = []\n",
    "        for _ in range(num):\n",
    "            scores =  generate_stu()\n",
    "            students.append(scores)\n",
    "\n",
    "        print(students)\n",
    "        break"
   ]
  },
  {
   "cell_type": "code",
   "execution_count": 10,
   "metadata": {},
   "outputs": [],
   "source": [
    "import pyinputplus as pyip\n"
   ]
  },
  {
   "cell_type": "code",
   "execution_count": 12,
   "metadata": {},
   "outputs": [
    {
     "name": "stdout",
     "output_type": "stream",
     "text": [
      "請輸入學生的人數:"
     ]
    },
    {
     "data": {
      "text/plain": [
       "[[99, 53, 89, 72, 74],\n",
       " [64, 72, 94, 75, 50],\n",
       " [81, 84, 89, 90, 62],\n",
       " [85, 53, 55, 65, 92],\n",
       " [79, 92, 54, 83, 59],\n",
       " [61, 87, 92, 97, 74],\n",
       " [78, 78, 58, 62, 93],\n",
       " [98, 56, 64, 71, 87],\n",
       " [79, 74, 76, 53, 63],\n",
       " [67, 88, 99, 83, 55],\n",
       " [75, 95, 59, 71, 73],\n",
       " [68, 94, 58, 54, 99],\n",
       " [64, 74, 66, 93, 64],\n",
       " [74, 86, 97, 53, 91],\n",
       " [68, 93, 54, 85, 66],\n",
       " [52, 83, 81, 78, 80],\n",
       " [95, 73, 74, 62, 100],\n",
       " [62, 93, 95, 58, 55],\n",
       " [53, 79, 81, 83, 60],\n",
       " [86, 85, 64, 97, 87],\n",
       " [51, 67, 98, 70, 88],\n",
       " [62, 72, 65, 74, 62],\n",
       " [57, 81, 82, 81, 92],\n",
       " [96, 75, 50, 63, 86],\n",
       " [56, 95, 59, 79, 63],\n",
       " [50, 64, 74, 80, 64],\n",
       " [67, 79, 81, 65, 95],\n",
       " [69, 58, 89, 57, 82],\n",
       " [99, 55, 73, 76, 57],\n",
       " [60, 70, 97, 71, 63],\n",
       " [100, 75, 72, 73, 99],\n",
       " [71, 68, 50, 78, 64],\n",
       " [54, 70, 64, 86, 81],\n",
       " [58, 61, 69, 81, 73],\n",
       " [96, 56, 70, 90, 55],\n",
       " [64, 98, 72, 81, 81],\n",
       " [55, 62, 85, 88, 53],\n",
       " [86, 88, 65, 99, 54],\n",
       " [60, 61, 51, 99, 61],\n",
       " [94, 78, 53, 75, 52],\n",
       " [75, 90, 54, 73, 67],\n",
       " [60, 66, 82, 50, 55],\n",
       " [76, 97, 67, 92, 88],\n",
       " [87, 95, 88, 80, 70],\n",
       " [53, 91, 74, 83, 75],\n",
       " [53, 70, 94, 98, 83],\n",
       " [51, 78, 95, 61, 52],\n",
       " [51, 69, 72, 70, 88],\n",
       " [96, 98, 82, 78, 54],\n",
       " [95, 100, 87, 64, 59]]"
      ]
     },
     "execution_count": 12,
     "metadata": {},
     "output_type": "execute_result"
    }
   ],
   "source": [
    "import pyinputplus as pyip\n",
    "\n",
    "num = pyip.inputInt('請輸入學生的人數:',min=5,max=50)\n",
    "students = []\n",
    "for _ in range(num):\n",
    "    scores =  generate_stu()\n",
    "    students.append(scores)\n",
    "\n",
    "students"
   ]
  }
 ],
 "metadata": {
  "kernelspec": {
   "display_name": "Python 3",
   "language": "python",
   "name": "python3"
  },
  "language_info": {
   "codemirror_mode": {
    "name": "ipython",
    "version": 3
   },
   "file_extension": ".py",
   "mimetype": "text/x-python",
   "name": "python",
   "nbconvert_exporter": "python",
   "pygments_lexer": "ipython3",
   "version": "3.10.8"
  },
  "orig_nbformat": 4
 },
 "nbformat": 4,
 "nbformat_minor": 2
}
