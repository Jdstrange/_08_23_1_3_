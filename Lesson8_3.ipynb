{
 "cells": [
  {
   "cell_type": "code",
   "execution_count": 1,
   "metadata": {},
   "outputs": [
    {
     "data": {
      "text/plain": [
       "[78, 92, 85, 64, 92]"
      ]
     },
     "execution_count": 1,
     "metadata": {},
     "output_type": "execute_result"
    }
   ],
   "source": [
    "stu1 = [78, 92, 85, 64, 92]\n",
    "stu1"
   ]
  },
  {
   "cell_type": "code",
   "execution_count": 2,
   "metadata": {},
   "outputs": [
    {
     "data": {
      "text/plain": [
       "[56, 54, 89, 96, 62]"
      ]
     },
     "execution_count": 2,
     "metadata": {},
     "output_type": "execute_result"
    }
   ],
   "source": [
    "import random\n",
    "\n",
    "stu2 = []\n",
    "for _ in range(5):\n",
    "    stu2.append(random.randint(50,100))\n",
    "stu2"
   ]
  },
  {
   "cell_type": "code",
   "execution_count": 4,
   "metadata": {},
   "outputs": [
    {
     "data": {
      "text/plain": [
       "[71, 64, 60, 63, 95]"
      ]
     },
     "execution_count": 4,
     "metadata": {},
     "output_type": "execute_result"
    }
   ],
   "source": [
    "import random\n",
    "\n",
    "def generate_stu():\n",
    "    scores = []\n",
    "    for _ in range(5):\n",
    "        scores.append(random.randint(50,100))\n",
    "    return scores\n",
    "\n",
    "generate_stu()"
   ]
  },
  {
   "cell_type": "code",
   "execution_count": 7,
   "metadata": {},
   "outputs": [
    {
     "name": "stdout",
     "output_type": "stream",
     "text": [
      "[[63, 53, 69, 57, 80], [90, 87, 63, 58, 61], [59, 92, 53, 57, 90], [55, 96, 57, 77, 66], [100, 60, 90, 76, 71], [82, 84, 73, 97, 69], [81, 93, 86, 90, 53], [53, 58, 84, 77, 53], [52, 79, 81, 64, 81], [63, 71, 83, 65, 61], [73, 67, 93, 59, 97], [86, 65, 98, 90, 76], [52, 69, 60, 87, 53], [95, 50, 57, 86, 100], [87, 50, 71, 72, 56], [84, 83, 62, 82, 94], [50, 94, 67, 100, 74], [56, 54, 86, 87, 84], [68, 58, 97, 56, 82], [92, 83, 93, 86, 84], [59, 64, 78, 92, 57], [78, 85, 62, 87, 92], [86, 97, 56, 96, 64], [73, 86, 77, 53, 91], [96, 62, 84, 86, 92], [98, 82, 61, 68, 92], [88, 88, 80, 89, 57], [59, 82, 74, 91, 88], [73, 98, 62, 56, 68], [98, 64, 54, 75, 67], [78, 50, 91, 60, 90], [72, 54, 50, 52, 53], [83, 58, 52, 64, 98], [57, 86, 79, 74, 66], [58, 72, 94, 60, 99], [69, 82, 61, 91, 72], [80, 59, 61, 61, 94], [54, 81, 87, 97, 72], [100, 57, 77, 53, 57], [54, 75, 61, 83, 84], [77, 55, 53, 73, 58], [63, 78, 57, 95, 66], [65, 92, 75, 68, 94], [87, 96, 56, 99, 90], [78, 72, 71, 62, 90], [66, 60, 59, 95, 84], [75, 96, 63, 69, 85], [57, 59, 90, 94, 62], [72, 68, 93, 96, 73], [79, 51, 79, 65, 100]]\n"
     ]
    }
   ],
   "source": [
    "#建立50個學生\n",
    "while True:\n",
    "    try:\n",
    "        num = int(input('請輸入學生的人數:'))\n",
    "    except:\n",
    "        print(\"格式錯誤\")\n",
    "    else:\n",
    "        students = []\n",
    "        for _ in range(num):\n",
    "            scores =  generate_stu()\n",
    "            students.append(scores)\n",
    "\n",
    "        print(students)\n",
    "        break"
   ]
  }
 ],
 "metadata": {
  "kernelspec": {
   "display_name": "Python 3",
   "language": "python",
   "name": "python3"
  },
  "language_info": {
   "codemirror_mode": {
    "name": "ipython",
    "version": 3
   },
   "file_extension": ".py",
   "mimetype": "text/x-python",
   "name": "python",
   "nbconvert_exporter": "python",
   "pygments_lexer": "ipython3",
   "version": "3.10.8"
  },
  "orig_nbformat": 4
 },
 "nbformat": 4,
 "nbformat_minor": 2
}
