{
 "cells": [
  {
   "cell_type": "code",
   "execution_count": 1,
   "metadata": {},
   "outputs": [
    {
     "data": {
      "text/plain": [
       "[78, 92, 85, 64, 92]"
      ]
     },
     "execution_count": 1,
     "metadata": {},
     "output_type": "execute_result"
    }
   ],
   "source": [
    "stu1 = [78, 92, 85, 64, 92]\n",
    "stu1"
   ]
  },
  {
   "cell_type": "code",
   "execution_count": 2,
   "metadata": {},
   "outputs": [
    {
     "data": {
      "text/plain": [
       "[56, 54, 89, 96, 62]"
      ]
     },
     "execution_count": 2,
     "metadata": {},
     "output_type": "execute_result"
    }
   ],
   "source": [
    "import random\n",
    "\n",
    "stu2 = []\n",
    "for _ in range(5):\n",
    "    stu2.append(random.randint(50,100))\n",
    "stu2"
   ]
  },
  {
   "cell_type": "code",
   "execution_count": 4,
   "metadata": {},
   "outputs": [
    {
     "data": {
      "text/plain": [
       "[71, 64, 60, 63, 95]"
      ]
     },
     "execution_count": 4,
     "metadata": {},
     "output_type": "execute_result"
    }
   ],
   "source": [
    "import random\n",
    "\n",
    "def generate_stu():\n",
    "    scores = []\n",
    "    for _ in range(5):\n",
    "        scores.append(random.randint(50,100))\n",
    "    return scores\n",
    "\n",
    "generate_stu()"
   ]
  },
  {
   "cell_type": "code",
   "execution_count": 6,
   "metadata": {},
   "outputs": [
    {
     "name": "stdout",
     "output_type": "stream",
     "text": [
      "[[61, 72, 78, 77, 95], [63, 58, 95, 99, 54], [73, 62, 66, 86, 53], [63, 79, 68, 85, 100], [85, 71, 81, 69, 66], [57, 54, 94, 55, 91], [92, 58, 89, 83, 93], [68, 63, 62, 89, 71], [50, 53, 83, 61, 96], [55, 75, 50, 63, 84], [53, 59, 82, 68, 92], [86, 52, 88, 75, 64], [64, 56, 99, 77, 76], [81, 99, 67, 91, 62], [82, 89, 69, 100, 96], [76, 52, 66, 52, 76], [53, 73, 71, 56, 72], [90, 98, 66, 75, 53], [67, 58, 61, 90, 87], [51, 90, 67, 94, 99], [63, 68, 63, 50, 81], [88, 87, 95, 94, 53], [67, 68, 83, 72, 81], [94, 69, 98, 71, 97], [82, 85, 97, 99, 57], [100, 89, 79, 51, 67], [50, 77, 78, 83, 68], [83, 84, 59, 69, 81], [91, 96, 91, 91, 90], [60, 76, 67, 98, 92], [97, 86, 54, 57, 55], [94, 72, 56, 94, 97], [61, 77, 79, 89, 52], [71, 50, 62, 95, 70], [84, 60, 74, 61, 88], [81, 88, 89, 80, 77], [99, 73, 72, 51, 52], [98, 67, 87, 70, 93], [98, 62, 72, 90, 67], [81, 89, 67, 100, 94], [87, 92, 54, 83, 82], [67, 87, 71, 68, 52], [52, 67, 68, 88, 74], [99, 65, 60, 56, 51], [72, 99, 75, 55, 79], [88, 70, 50, 62, 69], [58, 51, 99, 98, 75], [84, 64, 68, 71, 75], [90, 60, 66, 77, 57], [54, 58, 95, 90, 73]]\n"
     ]
    }
   ],
   "source": [
    "#建立50個學生\n",
    "try:\n",
    "    num = int(input('請輸入學生的人數:'))\n",
    "except:\n",
    "    print(\"格式錯誤\")\n",
    "else:\n",
    "    students = []\n",
    "    for _ in range(num):\n",
    "        scores =  generate_stu()\n",
    "        students.append(scores)\n",
    "\n",
    "    print(students)"
   ]
  }
 ],
 "metadata": {
  "kernelspec": {
   "display_name": "Python 3",
   "language": "python",
   "name": "python3"
  },
  "language_info": {
   "codemirror_mode": {
    "name": "ipython",
    "version": 3
   },
   "file_extension": ".py",
   "mimetype": "text/x-python",
   "name": "python",
   "nbconvert_exporter": "python",
   "pygments_lexer": "ipython3",
   "version": "3.10.8"
  },
  "orig_nbformat": 4
 },
 "nbformat": 4,
 "nbformat_minor": 2
}
