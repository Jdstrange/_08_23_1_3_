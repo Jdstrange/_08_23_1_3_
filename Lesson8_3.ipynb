{
 "cells": [
  {
   "cell_type": "code",
   "execution_count": 1,
   "metadata": {},
   "outputs": [
    {
     "data": {
      "text/plain": [
       "[78, 92, 85, 64, 92]"
      ]
     },
     "execution_count": 1,
     "metadata": {},
     "output_type": "execute_result"
    }
   ],
   "source": [
    "stu1 = [78, 92, 85, 64, 92]\n",
    "stu1"
   ]
  },
  {
   "cell_type": "code",
   "execution_count": 2,
   "metadata": {},
   "outputs": [
    {
     "data": {
      "text/plain": [
       "[56, 54, 89, 96, 62]"
      ]
     },
     "execution_count": 2,
     "metadata": {},
     "output_type": "execute_result"
    }
   ],
   "source": [
    "import random\n",
    "\n",
    "stu2 = []\n",
    "for _ in range(5):\n",
    "    stu2.append(random.randint(50,100))\n",
    "stu2"
   ]
  },
  {
   "cell_type": "code",
   "execution_count": 4,
   "metadata": {},
   "outputs": [
    {
     "data": {
      "text/plain": [
       "[71, 64, 60, 63, 95]"
      ]
     },
     "execution_count": 4,
     "metadata": {},
     "output_type": "execute_result"
    }
   ],
   "source": [
    "import random\n",
    "\n",
    "def generate_stu():\n",
    "    scores = []\n",
    "    for _ in range(5):\n",
    "        scores.append(random.randint(50,100))\n",
    "    return scores\n",
    "\n",
    "generate_stu()"
   ]
  },
  {
   "cell_type": "code",
   "execution_count": 14,
   "metadata": {},
   "outputs": [
    {
     "name": "stdout",
     "output_type": "stream",
     "text": [
      "[[55, 69, 51, 92, 81], [97, 95, 94, 83, 86], [72, 55, 50, 74, 70], [97, 58, 54, 64, 98], [57, 95, 85, 97, 74], [74, 60, 73, 99, 51], [63, 94, 58, 96, 50], [65, 61, 84, 77, 61], [78, 86, 73, 76, 70], [86, 85, 93, 84, 78], [57, 52, 50, 69, 88], [53, 70, 71, 59, 89], [67, 50, 76, 71, 74], [70, 52, 76, 78, 78], [96, 53, 69, 86, 88], [82, 90, 77, 56, 72], [89, 84, 86, 65, 65], [60, 59, 65, 54, 61], [50, 82, 77, 58, 51], [89, 58, 77, 64, 90], [84, 74, 77, 96, 100], [76, 68, 50, 71, 67], [77, 62, 88, 86, 93], [88, 66, 68, 60, 82], [50, 76, 87, 51, 89], [52, 98, 72, 53, 73], [55, 87, 63, 97, 87], [58, 50, 55, 77, 51], [70, 65, 89, 88, 56], [55, 64, 89, 90, 62], [92, 54, 66, 85, 81], [99, 87, 55, 60, 68], [76, 88, 72, 94, 54], [82, 75, 96, 89, 52], [71, 80, 51, 69, 87], [79, 100, 89, 93, 76], [68, 74, 57, 67, 78], [82, 76, 71, 61, 79], [56, 75, 96, 70, 84], [60, 54, 68, 74, 69], [51, 94, 94, 98, 51], [58, 97, 56, 57, 62], [54, 54, 82, 63, 95], [95, 94, 67, 62, 60], [91, 82, 85, 97, 59], [57, 79, 63, 82, 92], [84, 94, 68, 90, 70], [87, 55, 72, 59, 86], [84, 72, 79, 89, 57], [93, 92, 77, 75, 50]]\n"
     ]
    }
   ],
   "source": [
    "#建立50個學生\n",
    "while True:\n",
    "    try:\n",
    "        num = int(input('請輸入學生的人數:'))\n",
    "    except:\n",
    "        print(\"格式錯誤\")\n",
    "    else:\n",
    "        if not (num >= 5 and num <= 50):\n",
    "            continue\n",
    "        \n",
    "        students = []\n",
    "        for _ in range(num):\n",
    "            scores =  generate_stu()\n",
    "            students.append(scores)\n",
    "\n",
    "        print(students)\n",
    "        break"
   ]
  },
  {
   "cell_type": "code",
   "execution_count": 18,
   "metadata": {},
   "outputs": [
    {
     "name": "stdout",
     "output_type": "stream",
     "text": [
      "請輸入學生的人數:"
     ]
    },
    {
     "data": {
      "text/plain": [
       "[[93, 71, 98, 65, 96],\n",
       " [59, 93, 92, 57, 71],\n",
       " [50, 54, 77, 69, 99],\n",
       " [61, 58, 85, 77, 67],\n",
       " [92, 78, 98, 52, 60],\n",
       " [88, 84, 63, 70, 75],\n",
       " [70, 98, 93, 79, 68],\n",
       " [61, 54, 69, 96, 84],\n",
       " [69, 53, 86, 73, 73],\n",
       " [72, 76, 75, 90, 94],\n",
       " [71, 55, 95, 92, 75],\n",
       " [61, 68, 69, 86, 99],\n",
       " [55, 83, 68, 88, 65],\n",
       " [75, 87, 71, 64, 67],\n",
       " [66, 51, 98, 63, 93],\n",
       " [90, 84, 69, 66, 91],\n",
       " [75, 57, 51, 64, 57],\n",
       " [67, 85, 89, 66, 85],\n",
       " [53, 84, 77, 87, 50],\n",
       " [87, 73, 58, 96, 100],\n",
       " [62, 71, 74, 74, 82],\n",
       " [89, 77, 88, 73, 78],\n",
       " [60, 73, 86, 78, 86],\n",
       " [83, 63, 80, 57, 67],\n",
       " [91, 75, 71, 100, 97],\n",
       " [92, 93, 89, 93, 69],\n",
       " [96, 60, 67, 64, 81],\n",
       " [91, 67, 57, 56, 75],\n",
       " [64, 85, 80, 54, 50],\n",
       " [66, 68, 75, 94, 100],\n",
       " [60, 63, 65, 90, 61],\n",
       " [50, 90, 80, 84, 74],\n",
       " [87, 60, 93, 65, 69],\n",
       " [60, 65, 98, 54, 65],\n",
       " [89, 93, 67, 68, 79],\n",
       " [68, 64, 70, 97, 76],\n",
       " [85, 56, 80, 52, 67],\n",
       " [87, 91, 99, 78, 100],\n",
       " [84, 72, 68, 98, 58],\n",
       " [96, 97, 52, 70, 95],\n",
       " [93, 72, 80, 89, 61],\n",
       " [98, 79, 75, 72, 84],\n",
       " [100, 54, 99, 60, 85],\n",
       " [72, 83, 80, 99, 74],\n",
       " [94, 78, 88, 93, 84],\n",
       " [76, 78, 80, 90, 82],\n",
       " [94, 99, 73, 51, 66],\n",
       " [72, 82, 83, 67, 92],\n",
       " [75, 82, 54, 92, 73],\n",
       " [71, 76, 67, 83, 99]]"
      ]
     },
     "execution_count": 18,
     "metadata": {},
     "output_type": "execute_result"
    }
   ],
   "source": [
    "import pyinputplus as pyip\n",
    "\n",
    "num = pyip.inputInt('請輸入學生的人數:',min=5,max=50)\n",
    "students = []\n",
    "for _ in range(num):\n",
    "    scores =  generate_stu()\n",
    "    students.append(scores)\n",
    "\n",
    "students"
   ]
  }
 ],
 "metadata": {
  "kernelspec": {
   "display_name": "Python 3",
   "language": "python",
   "name": "python3"
  },
  "language_info": {
   "codemirror_mode": {
    "name": "ipython",
    "version": 3
   },
   "file_extension": ".py",
   "mimetype": "text/x-python",
   "name": "python",
   "nbconvert_exporter": "python",
   "pygments_lexer": "ipython3",
   "version": "3.10.8"
  },
  "orig_nbformat": 4
 },
 "nbformat": 4,
 "nbformat_minor": 2
}
