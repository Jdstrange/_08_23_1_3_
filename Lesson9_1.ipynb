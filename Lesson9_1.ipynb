{
 "cells": [
  {
   "cell_type": "code",
   "execution_count": 1,
   "metadata": {},
   "outputs": [],
   "source": [
    "import random\n",
    "\n",
    "def generate_stu():\n",
    "    scores = []\n",
    "    for _ in range(5):\n",
    "        scores.append(random.randint(50,100))\n",
    "    return scores"
   ]
  },
  {
   "cell_type": "code",
   "execution_count": 2,
   "metadata": {},
   "outputs": [
    {
     "name": "stdout",
     "output_type": "stream",
     "text": [
      "請輸入學生的人數:"
     ]
    },
    {
     "data": {
      "text/plain": [
       "[[52, 74, 64, 90, 66],\n",
       " [82, 54, 94, 94, 74],\n",
       " [61, 73, 90, 80, 54],\n",
       " [90, 60, 79, 57, 91],\n",
       " [100, 75, 79, 66, 74],\n",
       " [100, 82, 91, 50, 65],\n",
       " [84, 70, 80, 91, 77],\n",
       " [83, 75, 77, 62, 74],\n",
       " [82, 59, 94, 62, 55],\n",
       " [54, 72, 53, 66, 73],\n",
       " [78, 86, 75, 93, 67],\n",
       " [86, 87, 58, 58, 99],\n",
       " [87, 84, 87, 97, 86],\n",
       " [93, 50, 64, 80, 100],\n",
       " [75, 76, 63, 85, 51],\n",
       " [84, 60, 62, 53, 81],\n",
       " [51, 73, 54, 99, 50],\n",
       " [66, 70, 74, 50, 64],\n",
       " [64, 97, 72, 87, 70],\n",
       " [61, 85, 65, 60, 79],\n",
       " [71, 53, 64, 78, 58],\n",
       " [99, 74, 86, 65, 65],\n",
       " [65, 70, 86, 64, 93],\n",
       " [97, 79, 93, 76, 59],\n",
       " [89, 82, 93, 76, 98],\n",
       " [65, 95, 61, 59, 54],\n",
       " [64, 82, 55, 83, 51],\n",
       " [76, 62, 73, 82, 96],\n",
       " [60, 60, 59, 75, 74],\n",
       " [100, 88, 73, 68, 67]]"
      ]
     },
     "execution_count": 2,
     "metadata": {},
     "output_type": "execute_result"
    }
   ],
   "source": [
    "import pyinputplus as pyip\n",
    "\n",
    "num = pyip.inputInt('請輸入學生的人數:',min=5,max=50)\n",
    "students = []\n",
    "for _ in range(num):\n",
    "    scores =  generate_stu()\n",
    "    students.append(scores)\n",
    "\n",
    "students"
   ]
  }
 ],
 "metadata": {
  "kernelspec": {
   "display_name": "Python 3",
   "language": "python",
   "name": "python3"
  },
  "language_info": {
   "codemirror_mode": {
    "name": "ipython",
    "version": 3
   },
   "file_extension": ".py",
   "mimetype": "text/x-python",
   "name": "python",
   "nbconvert_exporter": "python",
   "pygments_lexer": "ipython3",
   "version": "3.10.8"
  },
  "orig_nbformat": 4
 },
 "nbformat": 4,
 "nbformat_minor": 2
}
